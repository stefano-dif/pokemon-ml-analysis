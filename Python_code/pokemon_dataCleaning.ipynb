{
 "cells": [
  {
   "cell_type": "code",
   "execution_count": 1,
   "id": "2dd0bf8f",
   "metadata": {},
   "outputs": [],
   "source": [
    "import numpy as np\n",
    "import pandas as pd\n",
    "import matplotlib.pyplot as plt"
   ]
  },
  {
   "cell_type": "markdown",
   "id": "a66ac6b8",
   "metadata": {},
   "source": [
    "# Inspect and Clean the Data"
   ]
  },
  {
   "cell_type": "code",
   "execution_count": 64,
   "id": "e4673fc7",
   "metadata": {},
   "outputs": [
    {
     "data": {
      "text/html": [
       "<div>\n",
       "<style scoped>\n",
       "    .dataframe tbody tr th:only-of-type {\n",
       "        vertical-align: middle;\n",
       "    }\n",
       "\n",
       "    .dataframe tbody tr th {\n",
       "        vertical-align: top;\n",
       "    }\n",
       "\n",
       "    .dataframe thead th {\n",
       "        text-align: right;\n",
       "    }\n",
       "</style>\n",
       "<table border=\"1\" class=\"dataframe\">\n",
       "  <thead>\n",
       "    <tr style=\"text-align: right;\">\n",
       "      <th></th>\n",
       "      <th>abilities</th>\n",
       "      <th>against_bug</th>\n",
       "      <th>against_dark</th>\n",
       "      <th>against_dragon</th>\n",
       "      <th>against_electric</th>\n",
       "      <th>against_fairy</th>\n",
       "      <th>against_fight</th>\n",
       "      <th>against_fire</th>\n",
       "      <th>against_flying</th>\n",
       "      <th>against_ghost</th>\n",
       "      <th>...</th>\n",
       "      <th>percentage_male</th>\n",
       "      <th>pokedex_number</th>\n",
       "      <th>sp_attack</th>\n",
       "      <th>sp_defense</th>\n",
       "      <th>speed</th>\n",
       "      <th>type1</th>\n",
       "      <th>type2</th>\n",
       "      <th>weight_kg</th>\n",
       "      <th>generation</th>\n",
       "      <th>is_legendary</th>\n",
       "    </tr>\n",
       "  </thead>\n",
       "  <tbody>\n",
       "    <tr>\n",
       "      <th>0</th>\n",
       "      <td>['Overgrow', 'Chlorophyll']</td>\n",
       "      <td>1.0</td>\n",
       "      <td>1.0</td>\n",
       "      <td>1.0</td>\n",
       "      <td>0.5</td>\n",
       "      <td>0.5</td>\n",
       "      <td>0.5</td>\n",
       "      <td>2.0</td>\n",
       "      <td>2.0</td>\n",
       "      <td>1.0</td>\n",
       "      <td>...</td>\n",
       "      <td>88.1</td>\n",
       "      <td>1</td>\n",
       "      <td>65</td>\n",
       "      <td>65</td>\n",
       "      <td>45</td>\n",
       "      <td>grass</td>\n",
       "      <td>poison</td>\n",
       "      <td>6.9</td>\n",
       "      <td>1</td>\n",
       "      <td>0</td>\n",
       "    </tr>\n",
       "    <tr>\n",
       "      <th>1</th>\n",
       "      <td>['Overgrow', 'Chlorophyll']</td>\n",
       "      <td>1.0</td>\n",
       "      <td>1.0</td>\n",
       "      <td>1.0</td>\n",
       "      <td>0.5</td>\n",
       "      <td>0.5</td>\n",
       "      <td>0.5</td>\n",
       "      <td>2.0</td>\n",
       "      <td>2.0</td>\n",
       "      <td>1.0</td>\n",
       "      <td>...</td>\n",
       "      <td>88.1</td>\n",
       "      <td>2</td>\n",
       "      <td>80</td>\n",
       "      <td>80</td>\n",
       "      <td>60</td>\n",
       "      <td>grass</td>\n",
       "      <td>poison</td>\n",
       "      <td>13.0</td>\n",
       "      <td>1</td>\n",
       "      <td>0</td>\n",
       "    </tr>\n",
       "    <tr>\n",
       "      <th>2</th>\n",
       "      <td>['Overgrow', 'Chlorophyll']</td>\n",
       "      <td>1.0</td>\n",
       "      <td>1.0</td>\n",
       "      <td>1.0</td>\n",
       "      <td>0.5</td>\n",
       "      <td>0.5</td>\n",
       "      <td>0.5</td>\n",
       "      <td>2.0</td>\n",
       "      <td>2.0</td>\n",
       "      <td>1.0</td>\n",
       "      <td>...</td>\n",
       "      <td>88.1</td>\n",
       "      <td>3</td>\n",
       "      <td>122</td>\n",
       "      <td>120</td>\n",
       "      <td>80</td>\n",
       "      <td>grass</td>\n",
       "      <td>poison</td>\n",
       "      <td>100.0</td>\n",
       "      <td>1</td>\n",
       "      <td>0</td>\n",
       "    </tr>\n",
       "    <tr>\n",
       "      <th>3</th>\n",
       "      <td>['Blaze', 'Solar Power']</td>\n",
       "      <td>0.5</td>\n",
       "      <td>1.0</td>\n",
       "      <td>1.0</td>\n",
       "      <td>1.0</td>\n",
       "      <td>0.5</td>\n",
       "      <td>1.0</td>\n",
       "      <td>0.5</td>\n",
       "      <td>1.0</td>\n",
       "      <td>1.0</td>\n",
       "      <td>...</td>\n",
       "      <td>88.1</td>\n",
       "      <td>4</td>\n",
       "      <td>60</td>\n",
       "      <td>50</td>\n",
       "      <td>65</td>\n",
       "      <td>fire</td>\n",
       "      <td>NaN</td>\n",
       "      <td>8.5</td>\n",
       "      <td>1</td>\n",
       "      <td>0</td>\n",
       "    </tr>\n",
       "    <tr>\n",
       "      <th>4</th>\n",
       "      <td>['Blaze', 'Solar Power']</td>\n",
       "      <td>0.5</td>\n",
       "      <td>1.0</td>\n",
       "      <td>1.0</td>\n",
       "      <td>1.0</td>\n",
       "      <td>0.5</td>\n",
       "      <td>1.0</td>\n",
       "      <td>0.5</td>\n",
       "      <td>1.0</td>\n",
       "      <td>1.0</td>\n",
       "      <td>...</td>\n",
       "      <td>88.1</td>\n",
       "      <td>5</td>\n",
       "      <td>80</td>\n",
       "      <td>65</td>\n",
       "      <td>80</td>\n",
       "      <td>fire</td>\n",
       "      <td>NaN</td>\n",
       "      <td>19.0</td>\n",
       "      <td>1</td>\n",
       "      <td>0</td>\n",
       "    </tr>\n",
       "  </tbody>\n",
       "</table>\n",
       "<p>5 rows × 41 columns</p>\n",
       "</div>"
      ],
      "text/plain": [
       "                     abilities  against_bug  against_dark  against_dragon  \\\n",
       "0  ['Overgrow', 'Chlorophyll']          1.0           1.0             1.0   \n",
       "1  ['Overgrow', 'Chlorophyll']          1.0           1.0             1.0   \n",
       "2  ['Overgrow', 'Chlorophyll']          1.0           1.0             1.0   \n",
       "3     ['Blaze', 'Solar Power']          0.5           1.0             1.0   \n",
       "4     ['Blaze', 'Solar Power']          0.5           1.0             1.0   \n",
       "\n",
       "   against_electric  against_fairy  against_fight  against_fire  \\\n",
       "0               0.5            0.5            0.5           2.0   \n",
       "1               0.5            0.5            0.5           2.0   \n",
       "2               0.5            0.5            0.5           2.0   \n",
       "3               1.0            0.5            1.0           0.5   \n",
       "4               1.0            0.5            1.0           0.5   \n",
       "\n",
       "   against_flying  against_ghost  ...  percentage_male  pokedex_number  \\\n",
       "0             2.0            1.0  ...             88.1               1   \n",
       "1             2.0            1.0  ...             88.1               2   \n",
       "2             2.0            1.0  ...             88.1               3   \n",
       "3             1.0            1.0  ...             88.1               4   \n",
       "4             1.0            1.0  ...             88.1               5   \n",
       "\n",
       "   sp_attack  sp_defense  speed  type1   type2  weight_kg  generation  \\\n",
       "0         65          65     45  grass  poison        6.9           1   \n",
       "1         80          80     60  grass  poison       13.0           1   \n",
       "2        122         120     80  grass  poison      100.0           1   \n",
       "3         60          50     65   fire     NaN        8.5           1   \n",
       "4         80          65     80   fire     NaN       19.0           1   \n",
       "\n",
       "   is_legendary  \n",
       "0             0  \n",
       "1             0  \n",
       "2             0  \n",
       "3             0  \n",
       "4             0  \n",
       "\n",
       "[5 rows x 41 columns]"
      ]
     },
     "execution_count": 64,
     "metadata": {},
     "output_type": "execute_result"
    }
   ],
   "source": [
    "path = \"../data/pokemon.csv\"\n",
    "pokemon = pd.read_csv(path)\n",
    "pokemon.head()"
   ]
  },
  {
   "cell_type": "code",
   "execution_count": 8,
   "id": "dea3eebd",
   "metadata": {},
   "outputs": [
    {
     "data": {
      "text/plain": [
       "((801, 41),\n",
       " Index(['abilities', 'against_bug', 'against_dark', 'against_dragon',\n",
       "        'against_electric', 'against_fairy', 'against_fight', 'against_fire',\n",
       "        'against_flying', 'against_ghost', 'against_grass', 'against_ground',\n",
       "        'against_ice', 'against_normal', 'against_poison', 'against_psychic',\n",
       "        'against_rock', 'against_steel', 'against_water', 'attack',\n",
       "        'base_egg_steps', 'base_happiness', 'base_total', 'capture_rate',\n",
       "        'classfication', 'defense', 'experience_growth', 'height_m', 'hp',\n",
       "        'japanese_name', 'name', 'percentage_male', 'pokedex_number',\n",
       "        'sp_attack', 'sp_defense', 'speed', 'type1', 'type2', 'weight_kg',\n",
       "        'generation', 'is_legendary'],\n",
       "       dtype='object'))"
      ]
     },
     "execution_count": 8,
     "metadata": {},
     "output_type": "execute_result"
    }
   ],
   "source": [
    "pokemon.shape, pokemon.columns"
   ]
  },
  {
   "cell_type": "code",
   "execution_count": 9,
   "id": "ff7cd2fe",
   "metadata": {},
   "outputs": [
    {
     "data": {
      "text/plain": [
       "0     Bulbasaur\n",
       "1       Ivysaur\n",
       "2      Venusaur\n",
       "3    Charmander\n",
       "4    Charmeleon\n",
       "5     Charizard\n",
       "6      Squirtle\n",
       "7     Wartortle\n",
       "8     Blastoise\n",
       "9      Caterpie\n",
       "Name: name, dtype: object"
      ]
     },
     "execution_count": 9,
     "metadata": {},
     "output_type": "execute_result"
    }
   ],
   "source": [
    "pokemon.name.head(10)"
   ]
  },
  {
   "cell_type": "code",
   "execution_count": 5,
   "id": "87f469d4",
   "metadata": {},
   "outputs": [
    {
     "data": {
      "text/plain": [
       "height_m            20\n",
       "percentage_male     98\n",
       "type2              384\n",
       "weight_kg           20\n",
       "dtype: int64"
      ]
     },
     "execution_count": 5,
     "metadata": {},
     "output_type": "execute_result"
    }
   ],
   "source": [
    "pokemon.isnull().sum()[pokemon.isnull().sum() != 0]"
   ]
  },
  {
   "cell_type": "code",
   "execution_count": 13,
   "id": "fe2354ed",
   "metadata": {},
   "outputs": [
    {
     "data": {
      "text/plain": [
       "421       Shellos\n",
       "496     Serperior\n",
       "513      Simisear\n",
       "745    Wishiwashi\n",
       "142       Snorlax\n",
       "601        Tynamo\n",
       "502      Samurott\n",
       "448    Hippopotas\n",
       "494         Snivy\n",
       "619      Mienshao\n",
       "Name: name, dtype: object"
      ]
     },
     "execution_count": 13,
     "metadata": {},
     "output_type": "execute_result"
    }
   ],
   "source": [
    "pokemon.loc[pokemon['type2'].isnull(), 'name'].sample(10)"
   ]
  },
  {
   "cell_type": "code",
   "execution_count": 14,
   "id": "96cdcca0",
   "metadata": {},
   "outputs": [
    {
     "data": {
      "text/plain": [
       "645       Kyurem\n",
       "716      Yveltal\n",
       "491      Shaymin\n",
       "337      Solrock\n",
       "482       Dialga\n",
       "795    Xurkitree\n",
       "492       Arceus\n",
       "794    Pheromosa\n",
       "249        Ho-Oh\n",
       "800     Magearna\n",
       "Name: name, dtype: object"
      ]
     },
     "execution_count": 14,
     "metadata": {},
     "output_type": "execute_result"
    }
   ],
   "source": [
    "pokemon.loc[pokemon['percentage_male'].isnull(), 'name'].sample(10)"
   ]
  },
  {
   "cell_type": "code",
   "execution_count": 15,
   "id": "5d4ea3de",
   "metadata": {},
   "outputs": [
    {
     "data": {
      "text/plain": [
       "25        Raichu\n",
       "104      Marowak\n",
       "18       Rattata\n",
       "19      Raticate\n",
       "50       Dugtrio\n",
       "75         Golem\n",
       "36        Vulpix\n",
       "73       Geodude\n",
       "26     Sandshrew\n",
       "51        Meowth\n",
       "Name: name, dtype: object"
      ]
     },
     "execution_count": 15,
     "metadata": {},
     "output_type": "execute_result"
    }
   ],
   "source": [
    "pokemon.loc[pokemon['height_m'].isnull(), 'name'].sample(10)"
   ]
  },
  {
   "cell_type": "code",
   "execution_count": 17,
   "id": "7d0f82ab",
   "metadata": {},
   "outputs": [
    {
     "data": {
      "text/plain": [
       "np.True_"
      ]
     },
     "execution_count": 17,
     "metadata": {},
     "output_type": "execute_result"
    }
   ],
   "source": [
    "(pokemon.loc[pokemon['height_m'].isnull(), 'name'] == \\\n",
    "pokemon.loc[pokemon['weight_kg'].isnull(), 'name']).all()"
   ]
  },
  {
   "cell_type": "markdown",
   "id": "dd6767cc",
   "metadata": {},
   "source": [
    "About the missing values:\n",
    "1. For col `type2`, NaN refers to a legitimate value of the feature. <br>\n",
    "2. For cols `height_m` and `weight_kg`, NaN is due to a problem in data collection. The same pokemons have missing values in the two columns. Since they are few (20 out of 801), the columns are not removed and values will be imputed. <br>\n",
    "3. For col `percentage_male`, NaN refers to the fact that the column is not applicable to the pokemon."
   ]
  },
  {
   "cell_type": "code",
   "execution_count": 18,
   "id": "7973c4f5",
   "metadata": {},
   "outputs": [
    {
     "data": {
      "text/plain": [
       "abilities             object\n",
       "against_bug          float64\n",
       "against_dark         float64\n",
       "against_dragon       float64\n",
       "against_electric     float64\n",
       "against_fairy        float64\n",
       "against_fight        float64\n",
       "against_fire         float64\n",
       "against_flying       float64\n",
       "against_ghost        float64\n",
       "against_grass        float64\n",
       "against_ground       float64\n",
       "against_ice          float64\n",
       "against_normal       float64\n",
       "against_poison       float64\n",
       "against_psychic      float64\n",
       "against_rock         float64\n",
       "against_steel        float64\n",
       "against_water        float64\n",
       "attack                 int64\n",
       "base_egg_steps         int64\n",
       "base_happiness         int64\n",
       "base_total             int64\n",
       "capture_rate          object\n",
       "classfication         object\n",
       "defense                int64\n",
       "experience_growth      int64\n",
       "height_m             float64\n",
       "hp                     int64\n",
       "japanese_name         object\n",
       "name                  object\n",
       "percentage_male      float64\n",
       "pokedex_number         int64\n",
       "sp_attack              int64\n",
       "sp_defense             int64\n",
       "speed                  int64\n",
       "type1                 object\n",
       "type2                 object\n",
       "weight_kg            float64\n",
       "generation             int64\n",
       "is_legendary           int64\n",
       "dtype: object"
      ]
     },
     "execution_count": 18,
     "metadata": {},
     "output_type": "execute_result"
    }
   ],
   "source": [
    "pokemon.dtypes"
   ]
  },
  {
   "cell_type": "markdown",
   "id": "38c9100b",
   "metadata": {},
   "source": [
    "col `capture_rate` is object instead of integer, and there is a spelling mistake in col `classfication`. <br>\n",
    "Save the original data set and start modifying on a copy."
   ]
  },
  {
   "cell_type": "code",
   "execution_count": 19,
   "id": "18d3ed9f",
   "metadata": {},
   "outputs": [],
   "source": [
    "original_pokemon = pokemon.copy()"
   ]
  },
  {
   "cell_type": "code",
   "execution_count": 20,
   "id": "1c8d5011",
   "metadata": {},
   "outputs": [
    {
     "data": {
      "text/plain": [
       "array(['45', '255', '120', '127', '90', '190', '75', '235', '150', '25',\n",
       "       '170', '50', '200', '100', '180', '60', '225', '30', '35', '3',\n",
       "       '65', '70', '125', '205', '155', '145', '130', '140', '15', '220',\n",
       "       '160', '80', '55', '30 (Meteorite)255 (Core)'], dtype=object)"
      ]
     },
     "execution_count": 20,
     "metadata": {},
     "output_type": "execute_result"
    }
   ],
   "source": [
    "pokemon['capture_rate'].unique()"
   ]
  },
  {
   "cell_type": "code",
   "execution_count": 21,
   "id": "194d9251",
   "metadata": {},
   "outputs": [
    {
     "data": {
      "text/plain": [
       "773    Minior\n",
       "Name: name, dtype: object"
      ]
     },
     "execution_count": 21,
     "metadata": {},
     "output_type": "execute_result"
    }
   ],
   "source": [
    "pokemon.loc[pokemon['capture_rate'] == '30 (Meteorite)255 (Core)', 'name']"
   ]
  },
  {
   "cell_type": "markdown",
   "id": "12291a84",
   "metadata": {},
   "source": [
    "Split Minior in two pokemon"
   ]
  },
  {
   "cell_type": "code",
   "execution_count": 22,
   "id": "64942bbb",
   "metadata": {},
   "outputs": [
    {
     "data": {
      "text/plain": [
       "773    120\n",
       "Name: speed, dtype: int64"
      ]
     },
     "execution_count": 22,
     "metadata": {},
     "output_type": "execute_result"
    }
   ],
   "source": [
    "pokemon.loc[pokemon['name'] == 'Minior', 'speed']"
   ]
  },
  {
   "cell_type": "code",
   "execution_count": 23,
   "id": "27e2f6aa",
   "metadata": {},
   "outputs": [],
   "source": [
    "pokemon = pd.concat([pokemon, pokemon.loc[pokemon['name'] == 'Minior', :]], axis = 0)"
   ]
  },
  {
   "cell_type": "code",
   "execution_count": null,
   "id": "e4dd9b80",
   "metadata": {},
   "outputs": [],
   "source": [
    "%%capture --no-display\n",
    "\n",
    "pokemon['name'].iloc[-1, ] = 'Minior-Meteorite'\n",
    "pokemon['speed'].iloc[-1, ] = 60 #looked on smogon\n",
    "pokemon['base_total'].iloc[-1, ] -= pokemon.loc[pokemon['name'] == 'Minior', 'speed'] - 60\n",
    "pokemon.loc[(pokemon['name'] == 'Minior') & (pokemon['speed'] == 120), 'capture_rate'] = '255'\n",
    "pokemon.loc[(pokemon['name'] == 'Minior-Meteorite') & (pokemon['speed'] == 60), 'capture_rate'] = '30'"
   ]
  },
  {
   "cell_type": "code",
   "execution_count": 26,
   "id": "9e27b9b6",
   "metadata": {},
   "outputs": [
    {
     "data": {
      "text/plain": [
       "(772            Silvally\n",
       " 773              Minior\n",
       " 773    Minior-Meteorite\n",
       " 774              Komala\n",
       " Name: name, dtype: object,\n",
       " 772    Silvally\n",
       " 773      Minior\n",
       " 774      Komala\n",
       " Name: name, dtype: object)"
      ]
     },
     "execution_count": 26,
     "metadata": {},
     "output_type": "execute_result"
    }
   ],
   "source": [
    "pokemon.loc[[772, 773, 774], 'name'], pokemon.iloc[[772, 773, 774], :]['name']"
   ]
  },
  {
   "cell_type": "code",
   "execution_count": 27,
   "id": "3d58b00a",
   "metadata": {},
   "outputs": [],
   "source": [
    "pokemon.sort_index(inplace = True)"
   ]
  },
  {
   "cell_type": "code",
   "execution_count": 29,
   "id": "f745ba4a",
   "metadata": {},
   "outputs": [],
   "source": [
    "pokemon.reset_index(inplace = True, drop = True)"
   ]
  },
  {
   "cell_type": "code",
   "execution_count": 30,
   "id": "8e89d7a6",
   "metadata": {},
   "outputs": [
    {
     "data": {
      "text/plain": [
       "(772            Silvally\n",
       " 773              Minior\n",
       " 774    Minior-Meteorite\n",
       " Name: name, dtype: object,\n",
       " 772            Silvally\n",
       " 773              Minior\n",
       " 774    Minior-Meteorite\n",
       " Name: name, dtype: object)"
      ]
     },
     "execution_count": 30,
     "metadata": {},
     "output_type": "execute_result"
    }
   ],
   "source": [
    "pokemon.loc[[772, 773, 774], 'name'], pokemon.iloc[[772, 773, 774], :]['name']"
   ]
  },
  {
   "cell_type": "markdown",
   "id": "36e87173",
   "metadata": {},
   "source": [
    "By doing this, the column `pokedex_number` is not a key anymore:"
   ]
  },
  {
   "cell_type": "code",
   "execution_count": 31,
   "id": "bf639949",
   "metadata": {},
   "outputs": [
    {
     "data": {
      "text/plain": [
       "np.int64(1)"
      ]
     },
     "execution_count": 31,
     "metadata": {},
     "output_type": "execute_result"
    }
   ],
   "source": [
    "pokemon.pokedex_number.duplicated().sum()"
   ]
  },
  {
   "cell_type": "markdown",
   "id": "5309f816",
   "metadata": {},
   "source": [
    "Finally:"
   ]
  },
  {
   "cell_type": "code",
   "execution_count": 34,
   "id": "abe4dc7b",
   "metadata": {},
   "outputs": [],
   "source": [
    "pokemon.rename({'classfication':'classification'}, axis = 1, inplace = True)\n",
    "pokemon['capture_rate'] = pokemon['capture_rate'].astype(int)"
   ]
  },
  {
   "cell_type": "markdown",
   "id": "7ef3f322",
   "metadata": {},
   "source": [
    "Delete japanese_name column"
   ]
  },
  {
   "cell_type": "code",
   "execution_count": 35,
   "id": "9605fd4b",
   "metadata": {},
   "outputs": [
    {
     "data": {
      "text/plain": [
       "False"
      ]
     },
     "execution_count": 35,
     "metadata": {},
     "output_type": "execute_result"
    }
   ],
   "source": [
    "pokemon.drop('japanese_name', axis = 1, inplace = True)\n",
    "'japanese_name' in pokemon.columns"
   ]
  },
  {
   "cell_type": "markdown",
   "id": "b11ed77d",
   "metadata": {},
   "source": [
    "We now work with missing values."
   ]
  },
  {
   "cell_type": "markdown",
   "id": "6e24e23c",
   "metadata": {},
   "source": [
    "First, for col `percentage_male`: we add a new column `percentage_female`. Then we set the NaN to zero:"
   ]
  },
  {
   "cell_type": "code",
   "execution_count": 36,
   "id": "94947197",
   "metadata": {},
   "outputs": [
    {
     "data": {
      "text/plain": [
       "0      11.9\n",
       "1      11.9\n",
       "2      11.9\n",
       "3      11.9\n",
       "4      11.9\n",
       "       ... \n",
       "797     NaN\n",
       "798     NaN\n",
       "799     NaN\n",
       "800     NaN\n",
       "801     NaN\n",
       "Name: percentage_female, Length: 802, dtype: float64"
      ]
     },
     "execution_count": 36,
     "metadata": {},
     "output_type": "execute_result"
    }
   ],
   "source": [
    "pokemon['percentage_female'] = 100 - pokemon['percentage_male']\n",
    "pokemon['percentage_female']"
   ]
  },
  {
   "cell_type": "code",
   "execution_count": 37,
   "id": "b2aa098b",
   "metadata": {},
   "outputs": [],
   "source": [
    "pokemon.loc[pokemon['percentage_male'].isna(), 'percentage_male'] = 0\n",
    "pokemon.loc[pokemon['percentage_female'].isna(), 'percentage_female'] = 0"
   ]
  },
  {
   "cell_type": "markdown",
   "id": "aa6d98b0",
   "metadata": {},
   "source": [
    "Substitute a placeholder in col `type2`:"
   ]
  },
  {
   "cell_type": "code",
   "execution_count": 38,
   "id": "f249644d",
   "metadata": {},
   "outputs": [],
   "source": [
    "pokemon.loc[pokemon['type2'].isna(), 'type2'] = 'none'"
   ]
  },
  {
   "cell_type": "markdown",
   "id": "ead1d522",
   "metadata": {},
   "source": [
    "For the weight and height columns, we will impute later."
   ]
  },
  {
   "cell_type": "markdown",
   "id": "111df95e",
   "metadata": {},
   "source": [
    "Finally, we inspect and spread the column `abilities`."
   ]
  },
  {
   "cell_type": "code",
   "execution_count": 39,
   "id": "8ec3396e",
   "metadata": {},
   "outputs": [
    {
     "data": {
      "text/plain": [
       "791                                  ['Full Metal Body']\n",
       "295                 ['Thick Fat', 'Guts', 'Sheer Force']\n",
       "575               ['Frisk', 'Competitive', 'Shadow Tag']\n",
       "630            ['Gluttony', 'Flash Fire', 'White Smoke']\n",
       "19     ['Run Away', 'Guts', 'Hustle', 'Gluttony', 'Hu...\n",
       "Name: abilities, dtype: object"
      ]
     },
     "execution_count": 39,
     "metadata": {},
     "output_type": "execute_result"
    }
   ],
   "source": [
    "pokemon.abilities.sample(5)"
   ]
  },
  {
   "cell_type": "code",
   "execution_count": 44,
   "id": "04751bea",
   "metadata": {},
   "outputs": [
    {
     "data": {
      "text/plain": [
       "np.int64(6)"
      ]
     },
     "execution_count": 44,
     "metadata": {},
     "output_type": "execute_result"
    }
   ],
   "source": [
    "max_num_ab = pokemon['abilities'].str.count(\",\").max() + 1\n",
    "max_num_ab"
   ]
  },
  {
   "cell_type": "code",
   "execution_count": 45,
   "id": "c00bb2b3",
   "metadata": {},
   "outputs": [
    {
     "data": {
      "text/plain": [
       "name                                                   Rattata\n",
       "abilities    ['Run Away', 'Guts', 'Hustle', 'Gluttony', 'Hu...\n",
       "Name: 18, dtype: object"
      ]
     },
     "execution_count": 45,
     "metadata": {},
     "output_type": "execute_result"
    }
   ],
   "source": [
    "pokemon.loc[pokemon['abilities'].str.count(\",\").idxmax(), ['name', 'abilities']]"
   ]
  },
  {
   "cell_type": "markdown",
   "id": "29bcdfa4",
   "metadata": {},
   "source": [
    "Pokemon have up to 6 abilities. We spread the column `abilities` across 6 columns."
   ]
  },
  {
   "cell_type": "code",
   "execution_count": 48,
   "id": "3272d776",
   "metadata": {},
   "outputs": [],
   "source": [
    "l = [eval(s) for s in pokemon['abilities']]\n",
    "d = {}\n",
    "for i in range(max_num_ab):\n",
    "    li = []\n",
    "    for e in range(len(l)):\n",
    "        if len(l[e]) >= i+1:\n",
    "            li.append(l[e][i])\n",
    "        else:\n",
    "            li.append('None')\n",
    "    d['ability_'+str(i)] = li"
   ]
  },
  {
   "cell_type": "code",
   "execution_count": 49,
   "id": "a349cc2a",
   "metadata": {},
   "outputs": [
    {
     "data": {
      "text/html": [
       "<div>\n",
       "<style scoped>\n",
       "    .dataframe tbody tr th:only-of-type {\n",
       "        vertical-align: middle;\n",
       "    }\n",
       "\n",
       "    .dataframe tbody tr th {\n",
       "        vertical-align: top;\n",
       "    }\n",
       "\n",
       "    .dataframe thead th {\n",
       "        text-align: right;\n",
       "    }\n",
       "</style>\n",
       "<table border=\"1\" class=\"dataframe\">\n",
       "  <thead>\n",
       "    <tr style=\"text-align: right;\">\n",
       "      <th></th>\n",
       "      <th>ability_0</th>\n",
       "      <th>ability_1</th>\n",
       "      <th>ability_2</th>\n",
       "      <th>ability_3</th>\n",
       "      <th>ability_4</th>\n",
       "      <th>ability_5</th>\n",
       "    </tr>\n",
       "  </thead>\n",
       "  <tbody>\n",
       "    <tr>\n",
       "      <th>0</th>\n",
       "      <td>Overgrow</td>\n",
       "      <td>Chlorophyll</td>\n",
       "      <td>None</td>\n",
       "      <td>None</td>\n",
       "      <td>None</td>\n",
       "      <td>None</td>\n",
       "    </tr>\n",
       "    <tr>\n",
       "      <th>1</th>\n",
       "      <td>Overgrow</td>\n",
       "      <td>Chlorophyll</td>\n",
       "      <td>None</td>\n",
       "      <td>None</td>\n",
       "      <td>None</td>\n",
       "      <td>None</td>\n",
       "    </tr>\n",
       "    <tr>\n",
       "      <th>2</th>\n",
       "      <td>Overgrow</td>\n",
       "      <td>Chlorophyll</td>\n",
       "      <td>None</td>\n",
       "      <td>None</td>\n",
       "      <td>None</td>\n",
       "      <td>None</td>\n",
       "    </tr>\n",
       "    <tr>\n",
       "      <th>3</th>\n",
       "      <td>Blaze</td>\n",
       "      <td>Solar Power</td>\n",
       "      <td>None</td>\n",
       "      <td>None</td>\n",
       "      <td>None</td>\n",
       "      <td>None</td>\n",
       "    </tr>\n",
       "    <tr>\n",
       "      <th>4</th>\n",
       "      <td>Blaze</td>\n",
       "      <td>Solar Power</td>\n",
       "      <td>None</td>\n",
       "      <td>None</td>\n",
       "      <td>None</td>\n",
       "      <td>None</td>\n",
       "    </tr>\n",
       "    <tr>\n",
       "      <th>...</th>\n",
       "      <td>...</td>\n",
       "      <td>...</td>\n",
       "      <td>...</td>\n",
       "      <td>...</td>\n",
       "      <td>...</td>\n",
       "      <td>...</td>\n",
       "    </tr>\n",
       "    <tr>\n",
       "      <th>797</th>\n",
       "      <td>Beast Boost</td>\n",
       "      <td>None</td>\n",
       "      <td>None</td>\n",
       "      <td>None</td>\n",
       "      <td>None</td>\n",
       "      <td>None</td>\n",
       "    </tr>\n",
       "    <tr>\n",
       "      <th>798</th>\n",
       "      <td>Beast Boost</td>\n",
       "      <td>None</td>\n",
       "      <td>None</td>\n",
       "      <td>None</td>\n",
       "      <td>None</td>\n",
       "      <td>None</td>\n",
       "    </tr>\n",
       "    <tr>\n",
       "      <th>799</th>\n",
       "      <td>Beast Boost</td>\n",
       "      <td>None</td>\n",
       "      <td>None</td>\n",
       "      <td>None</td>\n",
       "      <td>None</td>\n",
       "      <td>None</td>\n",
       "    </tr>\n",
       "    <tr>\n",
       "      <th>800</th>\n",
       "      <td>Prism Armor</td>\n",
       "      <td>None</td>\n",
       "      <td>None</td>\n",
       "      <td>None</td>\n",
       "      <td>None</td>\n",
       "      <td>None</td>\n",
       "    </tr>\n",
       "    <tr>\n",
       "      <th>801</th>\n",
       "      <td>Soul-Heart</td>\n",
       "      <td>None</td>\n",
       "      <td>None</td>\n",
       "      <td>None</td>\n",
       "      <td>None</td>\n",
       "      <td>None</td>\n",
       "    </tr>\n",
       "  </tbody>\n",
       "</table>\n",
       "<p>802 rows × 6 columns</p>\n",
       "</div>"
      ],
      "text/plain": [
       "       ability_0    ability_1 ability_2 ability_3 ability_4 ability_5\n",
       "0       Overgrow  Chlorophyll      None      None      None      None\n",
       "1       Overgrow  Chlorophyll      None      None      None      None\n",
       "2       Overgrow  Chlorophyll      None      None      None      None\n",
       "3          Blaze  Solar Power      None      None      None      None\n",
       "4          Blaze  Solar Power      None      None      None      None\n",
       "..           ...          ...       ...       ...       ...       ...\n",
       "797  Beast Boost         None      None      None      None      None\n",
       "798  Beast Boost         None      None      None      None      None\n",
       "799  Beast Boost         None      None      None      None      None\n",
       "800  Prism Armor         None      None      None      None      None\n",
       "801   Soul-Heart         None      None      None      None      None\n",
       "\n",
       "[802 rows x 6 columns]"
      ]
     },
     "execution_count": 49,
     "metadata": {},
     "output_type": "execute_result"
    }
   ],
   "source": [
    "abilities = pd.DataFrame(d)\n",
    "abilities[abilities == 'None'] = None\n",
    "abilities"
   ]
  },
  {
   "cell_type": "code",
   "execution_count": 50,
   "id": "2bf8ba64",
   "metadata": {},
   "outputs": [
    {
     "data": {
      "text/plain": [
       "Index(['against_bug', 'against_dark', 'against_dragon', 'against_electric',\n",
       "       'against_fairy', 'against_fight', 'against_fire', 'against_flying',\n",
       "       'against_ghost', 'against_grass', 'against_ground', 'against_ice',\n",
       "       'against_normal', 'against_poison', 'against_psychic', 'against_rock',\n",
       "       'against_steel', 'against_water', 'attack', 'base_egg_steps',\n",
       "       'base_happiness', 'base_total', 'capture_rate', 'classification',\n",
       "       'defense', 'experience_growth', 'height_m', 'hp', 'name',\n",
       "       'percentage_male', 'pokedex_number', 'sp_attack', 'sp_defense', 'speed',\n",
       "       'type1', 'type2', 'weight_kg', 'generation', 'is_legendary',\n",
       "       'percentage_female', 'ability_0', 'ability_1', 'ability_2', 'ability_3',\n",
       "       'ability_4', 'ability_5'],\n",
       "      dtype='object')"
      ]
     },
     "execution_count": 50,
     "metadata": {},
     "output_type": "execute_result"
    }
   ],
   "source": [
    "pokemon = pd.concat([pokemon, abilities], axis = 1)\n",
    "pokemon.drop('abilities', axis = 1, inplace = True)\n",
    "pokemon.columns"
   ]
  },
  {
   "cell_type": "markdown",
   "id": "e9c27119",
   "metadata": {},
   "source": [
    "By domain knowledge we know that all the `against_` columns are actually redundant, as the type resistences are determined only by `type1` and `type2`. Hence we remove them."
   ]
  },
  {
   "cell_type": "code",
   "execution_count": 51,
   "id": "39d6a893",
   "metadata": {},
   "outputs": [],
   "source": [
    "pokemon = pokemon.loc[:, np.invert(pokemon.columns.str.startswith('against_'))]"
   ]
  },
  {
   "cell_type": "markdown",
   "id": "a0d1d54d",
   "metadata": {},
   "source": [
    "We also remove `base_total`:"
   ]
  },
  {
   "cell_type": "code",
   "execution_count": 52,
   "id": "2c493404",
   "metadata": {},
   "outputs": [
    {
     "data": {
      "text/plain": [
       "np.True_"
      ]
     },
     "execution_count": 52,
     "metadata": {},
     "output_type": "execute_result"
    }
   ],
   "source": [
    "(pokemon.base_total == pokemon.attack + pokemon.defense +\\\n",
    "pokemon.sp_attack + pokemon.sp_defense + pokemon.speed + pokemon.hp).all()"
   ]
  },
  {
   "cell_type": "code",
   "execution_count": 53,
   "id": "820f0dec",
   "metadata": {},
   "outputs": [
    {
     "data": {
      "text/plain": [
       "Index(['attack', 'base_egg_steps', 'base_happiness', 'capture_rate',\n",
       "       'classification', 'defense', 'experience_growth', 'height_m', 'hp',\n",
       "       'name', 'percentage_male', 'pokedex_number', 'sp_attack', 'sp_defense',\n",
       "       'speed', 'type1', 'type2', 'weight_kg', 'generation', 'is_legendary',\n",
       "       'percentage_female', 'ability_0', 'ability_1', 'ability_2', 'ability_3',\n",
       "       'ability_4', 'ability_5'],\n",
       "      dtype='object')"
      ]
     },
     "execution_count": 53,
     "metadata": {},
     "output_type": "execute_result"
    }
   ],
   "source": [
    "pokemon.drop('base_total', axis = 1, inplace = True)\n",
    "pokemon.columns"
   ]
  },
  {
   "cell_type": "markdown",
   "id": "69ebcf62",
   "metadata": {},
   "source": [
    "We change the order of the columns in a more appropriate way."
   ]
  },
  {
   "cell_type": "code",
   "execution_count": 54,
   "id": "53762ff1",
   "metadata": {},
   "outputs": [
    {
     "data": {
      "text/html": [
       "<div>\n",
       "<style scoped>\n",
       "    .dataframe tbody tr th:only-of-type {\n",
       "        vertical-align: middle;\n",
       "    }\n",
       "\n",
       "    .dataframe tbody tr th {\n",
       "        vertical-align: top;\n",
       "    }\n",
       "\n",
       "    .dataframe thead th {\n",
       "        text-align: right;\n",
       "    }\n",
       "</style>\n",
       "<table border=\"1\" class=\"dataframe\">\n",
       "  <thead>\n",
       "    <tr style=\"text-align: right;\">\n",
       "      <th></th>\n",
       "      <th>pokedex_number</th>\n",
       "      <th>name</th>\n",
       "      <th>type1</th>\n",
       "      <th>type2</th>\n",
       "      <th>generation</th>\n",
       "      <th>hp</th>\n",
       "      <th>attack</th>\n",
       "      <th>defense</th>\n",
       "      <th>sp_attack</th>\n",
       "      <th>sp_defense</th>\n",
       "      <th>...</th>\n",
       "      <th>percentage_male</th>\n",
       "      <th>weight_kg</th>\n",
       "      <th>is_legendary</th>\n",
       "      <th>percentage_female</th>\n",
       "      <th>ability_0</th>\n",
       "      <th>ability_1</th>\n",
       "      <th>ability_2</th>\n",
       "      <th>ability_3</th>\n",
       "      <th>ability_4</th>\n",
       "      <th>ability_5</th>\n",
       "    </tr>\n",
       "  </thead>\n",
       "  <tbody>\n",
       "    <tr>\n",
       "      <th>0</th>\n",
       "      <td>1</td>\n",
       "      <td>Bulbasaur</td>\n",
       "      <td>grass</td>\n",
       "      <td>poison</td>\n",
       "      <td>1</td>\n",
       "      <td>45</td>\n",
       "      <td>49</td>\n",
       "      <td>49</td>\n",
       "      <td>65</td>\n",
       "      <td>65</td>\n",
       "      <td>...</td>\n",
       "      <td>88.1</td>\n",
       "      <td>6.9</td>\n",
       "      <td>0</td>\n",
       "      <td>11.9</td>\n",
       "      <td>Overgrow</td>\n",
       "      <td>Chlorophyll</td>\n",
       "      <td>None</td>\n",
       "      <td>None</td>\n",
       "      <td>None</td>\n",
       "      <td>None</td>\n",
       "    </tr>\n",
       "    <tr>\n",
       "      <th>1</th>\n",
       "      <td>2</td>\n",
       "      <td>Ivysaur</td>\n",
       "      <td>grass</td>\n",
       "      <td>poison</td>\n",
       "      <td>1</td>\n",
       "      <td>60</td>\n",
       "      <td>62</td>\n",
       "      <td>63</td>\n",
       "      <td>80</td>\n",
       "      <td>80</td>\n",
       "      <td>...</td>\n",
       "      <td>88.1</td>\n",
       "      <td>13.0</td>\n",
       "      <td>0</td>\n",
       "      <td>11.9</td>\n",
       "      <td>Overgrow</td>\n",
       "      <td>Chlorophyll</td>\n",
       "      <td>None</td>\n",
       "      <td>None</td>\n",
       "      <td>None</td>\n",
       "      <td>None</td>\n",
       "    </tr>\n",
       "    <tr>\n",
       "      <th>2</th>\n",
       "      <td>3</td>\n",
       "      <td>Venusaur</td>\n",
       "      <td>grass</td>\n",
       "      <td>poison</td>\n",
       "      <td>1</td>\n",
       "      <td>80</td>\n",
       "      <td>100</td>\n",
       "      <td>123</td>\n",
       "      <td>122</td>\n",
       "      <td>120</td>\n",
       "      <td>...</td>\n",
       "      <td>88.1</td>\n",
       "      <td>100.0</td>\n",
       "      <td>0</td>\n",
       "      <td>11.9</td>\n",
       "      <td>Overgrow</td>\n",
       "      <td>Chlorophyll</td>\n",
       "      <td>None</td>\n",
       "      <td>None</td>\n",
       "      <td>None</td>\n",
       "      <td>None</td>\n",
       "    </tr>\n",
       "    <tr>\n",
       "      <th>3</th>\n",
       "      <td>4</td>\n",
       "      <td>Charmander</td>\n",
       "      <td>fire</td>\n",
       "      <td>none</td>\n",
       "      <td>1</td>\n",
       "      <td>39</td>\n",
       "      <td>52</td>\n",
       "      <td>43</td>\n",
       "      <td>60</td>\n",
       "      <td>50</td>\n",
       "      <td>...</td>\n",
       "      <td>88.1</td>\n",
       "      <td>8.5</td>\n",
       "      <td>0</td>\n",
       "      <td>11.9</td>\n",
       "      <td>Blaze</td>\n",
       "      <td>Solar Power</td>\n",
       "      <td>None</td>\n",
       "      <td>None</td>\n",
       "      <td>None</td>\n",
       "      <td>None</td>\n",
       "    </tr>\n",
       "    <tr>\n",
       "      <th>4</th>\n",
       "      <td>5</td>\n",
       "      <td>Charmeleon</td>\n",
       "      <td>fire</td>\n",
       "      <td>none</td>\n",
       "      <td>1</td>\n",
       "      <td>58</td>\n",
       "      <td>64</td>\n",
       "      <td>58</td>\n",
       "      <td>80</td>\n",
       "      <td>65</td>\n",
       "      <td>...</td>\n",
       "      <td>88.1</td>\n",
       "      <td>19.0</td>\n",
       "      <td>0</td>\n",
       "      <td>11.9</td>\n",
       "      <td>Blaze</td>\n",
       "      <td>Solar Power</td>\n",
       "      <td>None</td>\n",
       "      <td>None</td>\n",
       "      <td>None</td>\n",
       "      <td>None</td>\n",
       "    </tr>\n",
       "  </tbody>\n",
       "</table>\n",
       "<p>5 rows × 27 columns</p>\n",
       "</div>"
      ],
      "text/plain": [
       "   pokedex_number        name  type1   type2  generation  hp  attack  defense  \\\n",
       "0               1   Bulbasaur  grass  poison           1  45      49       49   \n",
       "1               2     Ivysaur  grass  poison           1  60      62       63   \n",
       "2               3    Venusaur  grass  poison           1  80     100      123   \n",
       "3               4  Charmander   fire    none           1  39      52       43   \n",
       "4               5  Charmeleon   fire    none           1  58      64       58   \n",
       "\n",
       "   sp_attack  sp_defense  ...  percentage_male  weight_kg  is_legendary  \\\n",
       "0         65          65  ...             88.1        6.9             0   \n",
       "1         80          80  ...             88.1       13.0             0   \n",
       "2        122         120  ...             88.1      100.0             0   \n",
       "3         60          50  ...             88.1        8.5             0   \n",
       "4         80          65  ...             88.1       19.0             0   \n",
       "\n",
       "   percentage_female ability_0    ability_1  ability_2  ability_3  ability_4  \\\n",
       "0               11.9  Overgrow  Chlorophyll       None       None       None   \n",
       "1               11.9  Overgrow  Chlorophyll       None       None       None   \n",
       "2               11.9  Overgrow  Chlorophyll       None       None       None   \n",
       "3               11.9     Blaze  Solar Power       None       None       None   \n",
       "4               11.9     Blaze  Solar Power       None       None       None   \n",
       "\n",
       "   ability_5  \n",
       "0       None  \n",
       "1       None  \n",
       "2       None  \n",
       "3       None  \n",
       "4       None  \n",
       "\n",
       "[5 rows x 27 columns]"
      ]
     },
     "execution_count": 54,
     "metadata": {},
     "output_type": "execute_result"
    }
   ],
   "source": [
    "cols = ['pokedex_number', 'name', 'type1', 'type2', 'generation', 'hp', 'attack', 'defense', 'sp_attack', 'sp_defense', 'speed']\n",
    "cols.extend(list(pokemon.columns[np.invert(pokemon.columns.isin(cols))]))\n",
    "pokemon = pokemon.reindex(columns = cols)\n",
    "pokemon.head(5)"
   ]
  },
  {
   "cell_type": "code",
   "execution_count": 63,
   "id": "200c54df",
   "metadata": {},
   "outputs": [],
   "source": [
    "pokemon.to_csv(\"../data/pokemon_cleaned.csv\")"
   ]
  }
 ],
 "metadata": {
  "kernelspec": {
   "display_name": ".venv",
   "language": "python",
   "name": "python3"
  },
  "language_info": {
   "codemirror_mode": {
    "name": "ipython",
    "version": 3
   },
   "file_extension": ".py",
   "mimetype": "text/x-python",
   "name": "python",
   "nbconvert_exporter": "python",
   "pygments_lexer": "ipython3",
   "version": "3.12.6"
  }
 },
 "nbformat": 4,
 "nbformat_minor": 5
}
